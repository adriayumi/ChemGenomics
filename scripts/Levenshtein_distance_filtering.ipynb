{
 "cells": [
  {
   "cell_type": "markdown",
   "metadata": {},
   "source": [
    "## Processing DADA2 output - Denoised Barcodes "
   ]
  },
  {
   "cell_type": "code",
   "execution_count": 8,
   "metadata": {},
   "outputs": [],
   "source": [
    "import pandas as pd\n",
    "import Levenshtein"
   ]
  },
  {
   "cell_type": "code",
   "execution_count": 51,
   "metadata": {},
   "outputs": [
    {
     "data": {
      "text/html": [
       "<div>\n",
       "<style scoped>\n",
       "    .dataframe tbody tr th:only-of-type {\n",
       "        vertical-align: middle;\n",
       "    }\n",
       "\n",
       "    .dataframe tbody tr th {\n",
       "        vertical-align: top;\n",
       "    }\n",
       "\n",
       "    .dataframe thead th {\n",
       "        text-align: right;\n",
       "    }\n",
       "</style>\n",
       "<table border=\"1\" class=\"dataframe\">\n",
       "  <thead>\n",
       "    <tr style=\"text-align: right;\">\n",
       "      <th></th>\n",
       "      <th>BARCODE</th>\n",
       "      <th>C1110GR1_S132</th>\n",
       "      <th>C1110GR2_S133</th>\n",
       "      <th>C1110GR3_S134</th>\n",
       "      <th>C115GR1_S87</th>\n",
       "      <th>C115GR2_S88</th>\n",
       "      <th>C115GR3_S89</th>\n",
       "      <th>C1710GR1_S150</th>\n",
       "      <th>C1710GR2_S151</th>\n",
       "      <th>C1710GR3_S152</th>\n",
       "      <th>C175GR1_S105</th>\n",
       "      <th>C175GR2_S106</th>\n",
       "      <th>C175GR3_S107</th>\n",
       "    </tr>\n",
       "  </thead>\n",
       "  <tbody>\n",
       "    <tr>\n",
       "      <th>0</th>\n",
       "      <td>CCCTGATGACTAAGTTGTTC</td>\n",
       "      <td>1925</td>\n",
       "      <td>2459</td>\n",
       "      <td>2560</td>\n",
       "      <td>3382</td>\n",
       "      <td>3902</td>\n",
       "      <td>5457</td>\n",
       "      <td>2854</td>\n",
       "      <td>2795</td>\n",
       "      <td>3407</td>\n",
       "      <td>2918</td>\n",
       "      <td>1993</td>\n",
       "      <td>2588</td>\n",
       "    </tr>\n",
       "    <tr>\n",
       "      <th>1</th>\n",
       "      <td>CATCAGAGTCCATGTCAGGG</td>\n",
       "      <td>749</td>\n",
       "      <td>639</td>\n",
       "      <td>702</td>\n",
       "      <td>562</td>\n",
       "      <td>402</td>\n",
       "      <td>588</td>\n",
       "      <td>768</td>\n",
       "      <td>882</td>\n",
       "      <td>874</td>\n",
       "      <td>327</td>\n",
       "      <td>309</td>\n",
       "      <td>363</td>\n",
       "    </tr>\n",
       "    <tr>\n",
       "      <th>2</th>\n",
       "      <td>TATAACACTGGTGAACTAGC</td>\n",
       "      <td>630</td>\n",
       "      <td>755</td>\n",
       "      <td>582</td>\n",
       "      <td>517</td>\n",
       "      <td>759</td>\n",
       "      <td>681</td>\n",
       "      <td>1056</td>\n",
       "      <td>805</td>\n",
       "      <td>721</td>\n",
       "      <td>510</td>\n",
       "      <td>370</td>\n",
       "      <td>439</td>\n",
       "    </tr>\n",
       "    <tr>\n",
       "      <th>3</th>\n",
       "      <td>TTACACTCTCTAGCATTCGG</td>\n",
       "      <td>811</td>\n",
       "      <td>683</td>\n",
       "      <td>819</td>\n",
       "      <td>817</td>\n",
       "      <td>677</td>\n",
       "      <td>861</td>\n",
       "      <td>800</td>\n",
       "      <td>817</td>\n",
       "      <td>818</td>\n",
       "      <td>487</td>\n",
       "      <td>508</td>\n",
       "      <td>461</td>\n",
       "    </tr>\n",
       "    <tr>\n",
       "      <th>4</th>\n",
       "      <td>TAGTACCCGGAACCTAGGGC</td>\n",
       "      <td>601</td>\n",
       "      <td>882</td>\n",
       "      <td>578</td>\n",
       "      <td>600</td>\n",
       "      <td>785</td>\n",
       "      <td>637</td>\n",
       "      <td>672</td>\n",
       "      <td>785</td>\n",
       "      <td>859</td>\n",
       "      <td>365</td>\n",
       "      <td>399</td>\n",
       "      <td>423</td>\n",
       "    </tr>\n",
       "  </tbody>\n",
       "</table>\n",
       "</div>"
      ],
      "text/plain": [
       "                BARCODE  C1110GR1_S132  C1110GR2_S133  C1110GR3_S134  \\\n",
       "0  CCCTGATGACTAAGTTGTTC           1925           2459           2560   \n",
       "1  CATCAGAGTCCATGTCAGGG            749            639            702   \n",
       "2  TATAACACTGGTGAACTAGC            630            755            582   \n",
       "3  TTACACTCTCTAGCATTCGG            811            683            819   \n",
       "4  TAGTACCCGGAACCTAGGGC            601            882            578   \n",
       "\n",
       "   C115GR1_S87  C115GR2_S88  C115GR3_S89  C1710GR1_S150  C1710GR2_S151  \\\n",
       "0         3382         3902         5457           2854           2795   \n",
       "1          562          402          588            768            882   \n",
       "2          517          759          681           1056            805   \n",
       "3          817          677          861            800            817   \n",
       "4          600          785          637            672            785   \n",
       "\n",
       "   C1710GR3_S152  C175GR1_S105  C175GR2_S106  C175GR3_S107  \n",
       "0           3407          2918          1993          2588  \n",
       "1            874           327           309           363  \n",
       "2            721           510           370           439  \n",
       "3            818           487           508           461  \n",
       "4            859           365           399           423  "
      ]
     },
     "execution_count": 51,
     "metadata": {},
     "output_type": "execute_result"
    }
   ],
   "source": [
    "# Load unique ASVs counts from denoising\n",
    "asvtab_barcodes =  pd.read_table('asvtab_barcodes.txt')\n",
    "asvtab_barcodes.head()"
   ]
  },
  {
   "cell_type": "code",
   "execution_count": 52,
   "metadata": {},
   "outputs": [
    {
     "data": {
      "text/plain": [
       "8395"
      ]
     },
     "execution_count": 52,
     "metadata": {},
     "output_type": "execute_result"
    }
   ],
   "source": [
    "# Number of ASVs from denoising\n",
    "len(asvtab_barcodes)"
   ]
  },
  {
   "cell_type": "code",
   "execution_count": 53,
   "metadata": {},
   "outputs": [],
   "source": [
    "# Get sequences from BARCODE column\n",
    "asvtab_barcodes_seqs = asvtab_barcodes.loc[:, 'BARCODE'].tolist()"
   ]
  },
  {
   "cell_type": "code",
   "execution_count": 67,
   "metadata": {},
   "outputs": [
    {
     "data": {
      "text/plain": [
       "6337"
      ]
     },
     "execution_count": 67,
     "metadata": {},
     "output_type": "execute_result"
    }
   ],
   "source": [
    "# Barcodes and ORFs info table - mutant yeast pool \n",
    "barcodes = pd.read_table('yeast_pool_barcodes_info.tsv', index_col='UPTAG_sequence_20mer')\n",
    "len(barcodes)"
   ]
  },
  {
   "cell_type": "code",
   "execution_count": 76,
   "metadata": {},
   "outputs": [
    {
     "data": {
      "text/html": [
       "<div>\n",
       "<style scoped>\n",
       "    .dataframe tbody tr th:only-of-type {\n",
       "        vertical-align: middle;\n",
       "    }\n",
       "\n",
       "    .dataframe tbody tr th {\n",
       "        vertical-align: top;\n",
       "    }\n",
       "\n",
       "    .dataframe thead th {\n",
       "        text-align: right;\n",
       "    }\n",
       "</style>\n",
       "<table border=\"1\" class=\"dataframe\">\n",
       "  <thead>\n",
       "    <tr style=\"text-align: right;\">\n",
       "      <th></th>\n",
       "      <th>ORF_name</th>\n",
       "      <th>deletion_alias</th>\n",
       "      <th>ORF</th>\n",
       "    </tr>\n",
       "    <tr>\n",
       "      <th>UPTAG_sequence_20mer</th>\n",
       "      <th></th>\n",
       "      <th></th>\n",
       "      <th></th>\n",
       "    </tr>\n",
       "  </thead>\n",
       "  <tbody>\n",
       "    <tr>\n",
       "      <th>ACTATATGTGAAGGCATGGC</th>\n",
       "      <td>YAL001C</td>\n",
       "      <td>NaN</td>\n",
       "      <td>YAL001C</td>\n",
       "    </tr>\n",
       "    <tr>\n",
       "      <th>ATACTGACAGCACGCATGGC</th>\n",
       "      <td>YAL002W</td>\n",
       "      <td>NaN</td>\n",
       "      <td>YAL002W</td>\n",
       "    </tr>\n",
       "    <tr>\n",
       "      <th>GACATATCAGCATACATGGC</th>\n",
       "      <td>YAL003W</td>\n",
       "      <td>NaN</td>\n",
       "      <td>YAL003W</td>\n",
       "    </tr>\n",
       "    <tr>\n",
       "      <th>TATGGCACGGCAGACATTCC</th>\n",
       "      <td>YAL004W</td>\n",
       "      <td>NaN</td>\n",
       "      <td>YAL004W</td>\n",
       "    </tr>\n",
       "    <tr>\n",
       "      <th>AGGCATACTACACAGATTCC</th>\n",
       "      <td>YAL005C</td>\n",
       "      <td>NaN</td>\n",
       "      <td>YAL005C</td>\n",
       "    </tr>\n",
       "  </tbody>\n",
       "</table>\n",
       "</div>"
      ],
      "text/plain": [
       "                       ORF_name deletion_alias        ORF\n",
       "UPTAG_sequence_20mer                                     \n",
       "ACTATATGTGAAGGCATGGC  YAL001C              NaN  YAL001C  \n",
       "ATACTGACAGCACGCATGGC  YAL002W              NaN  YAL002W  \n",
       "GACATATCAGCATACATGGC  YAL003W              NaN  YAL003W  \n",
       "TATGGCACGGCAGACATTCC  YAL004W              NaN  YAL004W  \n",
       "AGGCATACTACACAGATTCC  YAL005C              NaN  YAL005C  "
      ]
     },
     "execution_count": 76,
     "metadata": {},
     "output_type": "execute_result"
    }
   ],
   "source": [
    "barcodes.head()"
   ]
  },
  {
   "cell_type": "code",
   "execution_count": 68,
   "metadata": {},
   "outputs": [],
   "source": [
    "# Get sequences from UPTAG_sequence_20mer column\n",
    "barcodes_seq = barcodes.index.tolist()"
   ]
  },
  {
   "cell_type": "markdown",
   "metadata": {},
   "source": [
    "### Levenshtein distance filtering"
   ]
  },
  {
   "cell_type": "markdown",
   "metadata": {},
   "source": [
    "Remove ASVs that have Levenshtein distance > 2 to expected barcode sequences"
   ]
  },
  {
   "cell_type": "code",
   "execution_count": 56,
   "metadata": {},
   "outputs": [],
   "source": [
    "# Dictionary of distances between barcodes and ASVs\n",
    "levenshtein_dict = dict()\n",
    "for i in barcodes_seq:\n",
    "    levenshtein_dict[i] = dict()\n",
    "    for x in asvtab_barcodes_seqs:\n",
    "        levenshtein_dict[i][x] = Levenshtein.distance(i, x)"
   ]
  },
  {
   "cell_type": "code",
   "execution_count": 57,
   "metadata": {},
   "outputs": [],
   "source": [
    "# Filter distances <= 2\n",
    "levenshtein_dict_filtered = dict()\n",
    "for i in levenshtein_dict:\n",
    "    if len(levenshtein_dict[i]) > 0:\n",
    "        levenshtein_dict_filtered[i] = dict()\n",
    "        for x in levenshtein_dict[i]:\n",
    "            if levenshtein_dict[i][x] <= 2:\n",
    "                if len(levenshtein_dict_filtered[i]) == 0:\n",
    "                    levenshtein_dict_filtered[i][x] = levenshtein_dict[i][x]\n",
    "                elif levenshtein_dict[i][x] == list(levenshtein_dict_filtered[i].values())[0]:\n",
    "                    levenshtein_dict_filtered[i][x] = levenshtein_dict[i][x]\n",
    "                elif levenshtein_dict[i][x] < list(levenshtein_dict_filtered[i].values())[0]:\n",
    "                    levenshtein_dict_filtered[i] = dict()\n",
    "                    levenshtein_dict_filtered[i][x] = levenshtein_dict[i][x]\n",
    "                elif levenshtein_dict[i][x] > list(levenshtein_dict_filtered[i].values())[0]:\n",
    "                    continue"
   ]
  },
  {
   "cell_type": "code",
   "execution_count": 58,
   "metadata": {},
   "outputs": [
    {
     "data": {
      "text/plain": [
       "6337"
      ]
     },
     "execution_count": 58,
     "metadata": {},
     "output_type": "execute_result"
    }
   ],
   "source": [
    "len(levenshtein_dict_filtered)"
   ]
  },
  {
   "cell_type": "code",
   "execution_count": 59,
   "metadata": {},
   "outputs": [
    {
     "data": {
      "text/plain": [
       "5447"
      ]
     },
     "execution_count": 59,
     "metadata": {},
     "output_type": "execute_result"
    }
   ],
   "source": [
    "# Dictionary of ASV:Barcode\n",
    "invdict={}\n",
    "for i in levenshtein_dict_filtered:\n",
    "    for x in levenshtein_dict_filtered[i].keys():\n",
    "        invdict[x] = i \n",
    "len(invdict)"
   ]
  },
  {
   "cell_type": "code",
   "execution_count": 60,
   "metadata": {},
   "outputs": [],
   "source": [
    "# Dictionary to dataframe\n",
    "levenshtein_df = pd.DataFrame.from_dict(invdict, orient='index', columns=['BARCODE'])\n",
    "levenshtein_df.index.rename('ASV', inplace=True)"
   ]
  },
  {
   "cell_type": "code",
   "execution_count": 61,
   "metadata": {},
   "outputs": [
    {
     "data": {
      "text/plain": [
       "5405"
      ]
     },
     "execution_count": 61,
     "metadata": {},
     "output_type": "execute_result"
    }
   ],
   "source": [
    "# Number of unique ASV:barcodes\n",
    "len(levenshtein_df['BARCODE'].unique())"
   ]
  },
  {
   "cell_type": "markdown",
   "metadata": {},
   "source": [
    "### Filter asvtab_barcodes to contain only ASVs with levenshtein distance <=2 to barcodes"
   ]
  },
  {
   "cell_type": "code",
   "execution_count": 62,
   "metadata": {},
   "outputs": [
    {
     "data": {
      "text/plain": [
       "5447"
      ]
     },
     "execution_count": 62,
     "metadata": {},
     "output_type": "execute_result"
    }
   ],
   "source": [
    "# Filtering Asvtab_barcodes to contain only ASVs with levenshtein distance <=2 to barcodes\n",
    "\n",
    "asvtab_barcodes = asvtab_barcodes.set_index(\"BARCODE\")\n",
    "asvtab_filtered = asvtab_barcodes[asvtab_barcodes.index.isin(levenshtein_df.index)]\n",
    "asvtab_filtered.index.rename('ASV', inplace=True)\n",
    "len(asvtab_filtered)"
   ]
  },
  {
   "cell_type": "code",
   "execution_count": 63,
   "metadata": {},
   "outputs": [],
   "source": [
    "# Add Barcode sequence that matches ASV with Levenshtein distance <=2\n",
    "asvtab_filtered = asvtab_filtered.join(levenshtein_df['BARCODE'])"
   ]
  },
  {
   "cell_type": "markdown",
   "metadata": {},
   "source": [
    "### Add ORF name to filtered asvtab_barcodes"
   ]
  },
  {
   "cell_type": "code",
   "execution_count": 72,
   "metadata": {},
   "outputs": [
    {
     "data": {
      "text/html": [
       "<div>\n",
       "<style scoped>\n",
       "    .dataframe tbody tr th:only-of-type {\n",
       "        vertical-align: middle;\n",
       "    }\n",
       "\n",
       "    .dataframe tbody tr th {\n",
       "        vertical-align: top;\n",
       "    }\n",
       "\n",
       "    .dataframe thead th {\n",
       "        text-align: right;\n",
       "    }\n",
       "</style>\n",
       "<table border=\"1\" class=\"dataframe\">\n",
       "  <thead>\n",
       "    <tr style=\"text-align: right;\">\n",
       "      <th></th>\n",
       "      <th>C1110GR1_S132</th>\n",
       "      <th>C1110GR2_S133</th>\n",
       "      <th>C1110GR3_S134</th>\n",
       "      <th>C115GR1_S87</th>\n",
       "      <th>C115GR2_S88</th>\n",
       "      <th>C115GR3_S89</th>\n",
       "      <th>C1710GR1_S150</th>\n",
       "      <th>C1710GR2_S151</th>\n",
       "      <th>C1710GR3_S152</th>\n",
       "      <th>C175GR1_S105</th>\n",
       "      <th>C175GR2_S106</th>\n",
       "      <th>C175GR3_S107</th>\n",
       "      <th>BARCODE</th>\n",
       "    </tr>\n",
       "  </thead>\n",
       "  <tbody>\n",
       "    <tr>\n",
       "      <th>YDL060W</th>\n",
       "      <td>1925</td>\n",
       "      <td>2459</td>\n",
       "      <td>2560</td>\n",
       "      <td>3382</td>\n",
       "      <td>3902</td>\n",
       "      <td>5457</td>\n",
       "      <td>2854</td>\n",
       "      <td>2795</td>\n",
       "      <td>3407</td>\n",
       "      <td>2918</td>\n",
       "      <td>1993</td>\n",
       "      <td>2588</td>\n",
       "      <td>CCCTGATGACTAAGTTGTTC</td>\n",
       "    </tr>\n",
       "    <tr>\n",
       "      <th>YJR039W</th>\n",
       "      <td>749</td>\n",
       "      <td>639</td>\n",
       "      <td>702</td>\n",
       "      <td>562</td>\n",
       "      <td>402</td>\n",
       "      <td>588</td>\n",
       "      <td>768</td>\n",
       "      <td>882</td>\n",
       "      <td>874</td>\n",
       "      <td>327</td>\n",
       "      <td>309</td>\n",
       "      <td>363</td>\n",
       "      <td>CATCAGAGTCCATGTCAGGG</td>\n",
       "    </tr>\n",
       "    <tr>\n",
       "      <th>YLR308W</th>\n",
       "      <td>630</td>\n",
       "      <td>755</td>\n",
       "      <td>582</td>\n",
       "      <td>517</td>\n",
       "      <td>759</td>\n",
       "      <td>681</td>\n",
       "      <td>1056</td>\n",
       "      <td>805</td>\n",
       "      <td>721</td>\n",
       "      <td>510</td>\n",
       "      <td>370</td>\n",
       "      <td>439</td>\n",
       "      <td>TATAACACTGGCGAACTAGC</td>\n",
       "    </tr>\n",
       "    <tr>\n",
       "      <th>YOL090W</th>\n",
       "      <td>811</td>\n",
       "      <td>683</td>\n",
       "      <td>819</td>\n",
       "      <td>817</td>\n",
       "      <td>677</td>\n",
       "      <td>861</td>\n",
       "      <td>800</td>\n",
       "      <td>817</td>\n",
       "      <td>818</td>\n",
       "      <td>487</td>\n",
       "      <td>508</td>\n",
       "      <td>461</td>\n",
       "      <td>TTACACTCTCTAGCATTCGG</td>\n",
       "    </tr>\n",
       "    <tr>\n",
       "      <th>YLR287C</th>\n",
       "      <td>601</td>\n",
       "      <td>882</td>\n",
       "      <td>578</td>\n",
       "      <td>600</td>\n",
       "      <td>785</td>\n",
       "      <td>637</td>\n",
       "      <td>672</td>\n",
       "      <td>785</td>\n",
       "      <td>859</td>\n",
       "      <td>365</td>\n",
       "      <td>399</td>\n",
       "      <td>423</td>\n",
       "      <td>TAGTACCCGGAACCTAGAGC</td>\n",
       "    </tr>\n",
       "  </tbody>\n",
       "</table>\n",
       "</div>"
      ],
      "text/plain": [
       "         C1110GR1_S132  C1110GR2_S133  C1110GR3_S134  C115GR1_S87  \\\n",
       "YDL060W           1925           2459           2560         3382   \n",
       "YJR039W            749            639            702          562   \n",
       "YLR308W            630            755            582          517   \n",
       "YOL090W            811            683            819          817   \n",
       "YLR287C            601            882            578          600   \n",
       "\n",
       "         C115GR2_S88  C115GR3_S89  C1710GR1_S150  C1710GR2_S151  \\\n",
       "YDL060W         3902         5457           2854           2795   \n",
       "YJR039W          402          588            768            882   \n",
       "YLR308W          759          681           1056            805   \n",
       "YOL090W          677          861            800            817   \n",
       "YLR287C          785          637            672            785   \n",
       "\n",
       "         C1710GR3_S152  C175GR1_S105  C175GR2_S106  C175GR3_S107  \\\n",
       "YDL060W           3407          2918          1993          2588   \n",
       "YJR039W            874           327           309           363   \n",
       "YLR308W            721           510           370           439   \n",
       "YOL090W            818           487           508           461   \n",
       "YLR287C            859           365           399           423   \n",
       "\n",
       "                      BARCODE  \n",
       "YDL060W  CCCTGATGACTAAGTTGTTC  \n",
       "YJR039W  CATCAGAGTCCATGTCAGGG  \n",
       "YLR308W  TATAACACTGGCGAACTAGC  \n",
       "YOL090W  TTACACTCTCTAGCATTCGG  \n",
       "YLR287C  TAGTACCCGGAACCTAGAGC  "
      ]
     },
     "execution_count": 72,
     "metadata": {},
     "output_type": "execute_result"
    }
   ],
   "source": [
    "# Add ORF name \n",
    "asvtab_orf = asvtab_filtered.join(barcodes['ORF'], on=['BARCODE'])\n",
    "asvtab_orf = asvtab_orf.set_index('ORF')\n",
    "asvtab_orf.head()"
   ]
  },
  {
   "cell_type": "code",
   "execution_count": 73,
   "metadata": {},
   "outputs": [],
   "source": [
    "# Summing counts of ASVs that are from the same barcode\n",
    "asvtab_orf.index = [i.strip() for i in asvtab_orf.index]\n",
    "asvtab_orf = asvtab_orf.groupby(by=asvtab_orf.index, axis=0).sum()"
   ]
  },
  {
   "cell_type": "code",
   "execution_count": 74,
   "metadata": {},
   "outputs": [
    {
     "data": {
      "text/plain": [
       "5405"
      ]
     },
     "execution_count": 74,
     "metadata": {},
     "output_type": "execute_result"
    }
   ],
   "source": [
    "len(asvtab_orf)"
   ]
  },
  {
   "cell_type": "markdown",
   "metadata": {},
   "source": [
    "### Final counts table"
   ]
  },
  {
   "cell_type": "code",
   "execution_count": 75,
   "metadata": {},
   "outputs": [
    {
     "data": {
      "text/html": [
       "<div>\n",
       "<style scoped>\n",
       "    .dataframe tbody tr th:only-of-type {\n",
       "        vertical-align: middle;\n",
       "    }\n",
       "\n",
       "    .dataframe tbody tr th {\n",
       "        vertical-align: top;\n",
       "    }\n",
       "\n",
       "    .dataframe thead th {\n",
       "        text-align: right;\n",
       "    }\n",
       "</style>\n",
       "<table border=\"1\" class=\"dataframe\">\n",
       "  <thead>\n",
       "    <tr style=\"text-align: right;\">\n",
       "      <th></th>\n",
       "      <th>C1110GR1_S132</th>\n",
       "      <th>C1110GR2_S133</th>\n",
       "      <th>C1110GR3_S134</th>\n",
       "      <th>C115GR1_S87</th>\n",
       "      <th>C115GR2_S88</th>\n",
       "      <th>C115GR3_S89</th>\n",
       "      <th>C1710GR1_S150</th>\n",
       "      <th>C1710GR2_S151</th>\n",
       "      <th>C1710GR3_S152</th>\n",
       "      <th>C175GR1_S105</th>\n",
       "      <th>C175GR2_S106</th>\n",
       "      <th>C175GR3_S107</th>\n",
       "    </tr>\n",
       "  </thead>\n",
       "  <tbody>\n",
       "    <tr>\n",
       "      <th>YAL001C</th>\n",
       "      <td>18</td>\n",
       "      <td>16</td>\n",
       "      <td>13</td>\n",
       "      <td>33</td>\n",
       "      <td>45</td>\n",
       "      <td>20</td>\n",
       "      <td>23</td>\n",
       "      <td>9</td>\n",
       "      <td>44</td>\n",
       "      <td>26</td>\n",
       "      <td>25</td>\n",
       "      <td>28</td>\n",
       "    </tr>\n",
       "    <tr>\n",
       "      <th>YAL002W</th>\n",
       "      <td>5</td>\n",
       "      <td>28</td>\n",
       "      <td>11</td>\n",
       "      <td>17</td>\n",
       "      <td>39</td>\n",
       "      <td>11</td>\n",
       "      <td>12</td>\n",
       "      <td>4</td>\n",
       "      <td>4</td>\n",
       "      <td>6</td>\n",
       "      <td>1</td>\n",
       "      <td>12</td>\n",
       "    </tr>\n",
       "    <tr>\n",
       "      <th>YAL003W</th>\n",
       "      <td>33</td>\n",
       "      <td>27</td>\n",
       "      <td>39</td>\n",
       "      <td>55</td>\n",
       "      <td>56</td>\n",
       "      <td>56</td>\n",
       "      <td>22</td>\n",
       "      <td>14</td>\n",
       "      <td>21</td>\n",
       "      <td>30</td>\n",
       "      <td>19</td>\n",
       "      <td>20</td>\n",
       "    </tr>\n",
       "    <tr>\n",
       "      <th>YAL004W</th>\n",
       "      <td>33</td>\n",
       "      <td>48</td>\n",
       "      <td>57</td>\n",
       "      <td>91</td>\n",
       "      <td>41</td>\n",
       "      <td>71</td>\n",
       "      <td>22</td>\n",
       "      <td>15</td>\n",
       "      <td>33</td>\n",
       "      <td>32</td>\n",
       "      <td>29</td>\n",
       "      <td>19</td>\n",
       "    </tr>\n",
       "    <tr>\n",
       "      <th>YAL005C</th>\n",
       "      <td>5</td>\n",
       "      <td>25</td>\n",
       "      <td>16</td>\n",
       "      <td>4</td>\n",
       "      <td>28</td>\n",
       "      <td>21</td>\n",
       "      <td>12</td>\n",
       "      <td>7</td>\n",
       "      <td>6</td>\n",
       "      <td>23</td>\n",
       "      <td>21</td>\n",
       "      <td>5</td>\n",
       "    </tr>\n",
       "    <tr>\n",
       "      <th>...</th>\n",
       "      <td>...</td>\n",
       "      <td>...</td>\n",
       "      <td>...</td>\n",
       "      <td>...</td>\n",
       "      <td>...</td>\n",
       "      <td>...</td>\n",
       "      <td>...</td>\n",
       "      <td>...</td>\n",
       "      <td>...</td>\n",
       "      <td>...</td>\n",
       "      <td>...</td>\n",
       "      <td>...</td>\n",
       "    </tr>\n",
       "    <tr>\n",
       "      <th>YPR197C</th>\n",
       "      <td>98</td>\n",
       "      <td>68</td>\n",
       "      <td>140</td>\n",
       "      <td>175</td>\n",
       "      <td>139</td>\n",
       "      <td>191</td>\n",
       "      <td>158</td>\n",
       "      <td>77</td>\n",
       "      <td>111</td>\n",
       "      <td>91</td>\n",
       "      <td>68</td>\n",
       "      <td>93</td>\n",
       "    </tr>\n",
       "    <tr>\n",
       "      <th>YPR198W</th>\n",
       "      <td>62</td>\n",
       "      <td>99</td>\n",
       "      <td>96</td>\n",
       "      <td>135</td>\n",
       "      <td>205</td>\n",
       "      <td>281</td>\n",
       "      <td>147</td>\n",
       "      <td>105</td>\n",
       "      <td>181</td>\n",
       "      <td>142</td>\n",
       "      <td>74</td>\n",
       "      <td>149</td>\n",
       "    </tr>\n",
       "    <tr>\n",
       "      <th>YPR199C</th>\n",
       "      <td>84</td>\n",
       "      <td>124</td>\n",
       "      <td>82</td>\n",
       "      <td>185</td>\n",
       "      <td>278</td>\n",
       "      <td>112</td>\n",
       "      <td>125</td>\n",
       "      <td>119</td>\n",
       "      <td>127</td>\n",
       "      <td>113</td>\n",
       "      <td>94</td>\n",
       "      <td>109</td>\n",
       "    </tr>\n",
       "    <tr>\n",
       "      <th>YPR200C</th>\n",
       "      <td>114</td>\n",
       "      <td>74</td>\n",
       "      <td>146</td>\n",
       "      <td>228</td>\n",
       "      <td>139</td>\n",
       "      <td>196</td>\n",
       "      <td>170</td>\n",
       "      <td>164</td>\n",
       "      <td>152</td>\n",
       "      <td>121</td>\n",
       "      <td>145</td>\n",
       "      <td>77</td>\n",
       "    </tr>\n",
       "    <tr>\n",
       "      <th>YPR201W</th>\n",
       "      <td>212</td>\n",
       "      <td>220</td>\n",
       "      <td>248</td>\n",
       "      <td>315</td>\n",
       "      <td>382</td>\n",
       "      <td>400</td>\n",
       "      <td>237</td>\n",
       "      <td>257</td>\n",
       "      <td>224</td>\n",
       "      <td>318</td>\n",
       "      <td>243</td>\n",
       "      <td>190</td>\n",
       "    </tr>\n",
       "  </tbody>\n",
       "</table>\n",
       "<p>5405 rows × 12 columns</p>\n",
       "</div>"
      ],
      "text/plain": [
       "         C1110GR1_S132  C1110GR2_S133  C1110GR3_S134  C115GR1_S87  \\\n",
       "YAL001C             18             16             13           33   \n",
       "YAL002W              5             28             11           17   \n",
       "YAL003W             33             27             39           55   \n",
       "YAL004W             33             48             57           91   \n",
       "YAL005C              5             25             16            4   \n",
       "...                ...            ...            ...          ...   \n",
       "YPR197C             98             68            140          175   \n",
       "YPR198W             62             99             96          135   \n",
       "YPR199C             84            124             82          185   \n",
       "YPR200C            114             74            146          228   \n",
       "YPR201W            212            220            248          315   \n",
       "\n",
       "         C115GR2_S88  C115GR3_S89  C1710GR1_S150  C1710GR2_S151  \\\n",
       "YAL001C           45           20             23              9   \n",
       "YAL002W           39           11             12              4   \n",
       "YAL003W           56           56             22             14   \n",
       "YAL004W           41           71             22             15   \n",
       "YAL005C           28           21             12              7   \n",
       "...              ...          ...            ...            ...   \n",
       "YPR197C          139          191            158             77   \n",
       "YPR198W          205          281            147            105   \n",
       "YPR199C          278          112            125            119   \n",
       "YPR200C          139          196            170            164   \n",
       "YPR201W          382          400            237            257   \n",
       "\n",
       "         C1710GR3_S152  C175GR1_S105  C175GR2_S106  C175GR3_S107  \n",
       "YAL001C             44            26            25            28  \n",
       "YAL002W              4             6             1            12  \n",
       "YAL003W             21            30            19            20  \n",
       "YAL004W             33            32            29            19  \n",
       "YAL005C              6            23            21             5  \n",
       "...                ...           ...           ...           ...  \n",
       "YPR197C            111            91            68            93  \n",
       "YPR198W            181           142            74           149  \n",
       "YPR199C            127           113            94           109  \n",
       "YPR200C            152           121           145            77  \n",
       "YPR201W            224           318           243           190  \n",
       "\n",
       "[5405 rows x 12 columns]"
      ]
     },
     "execution_count": 75,
     "metadata": {},
     "output_type": "execute_result"
    }
   ],
   "source": [
    "# FINAL BARCODE/ORF COUNT TABLE FOR DESEQ2\n",
    "asvtab_orf"
   ]
  },
  {
   "cell_type": "code",
   "execution_count": 78,
   "metadata": {},
   "outputs": [
    {
     "data": {
      "text/plain": [
       "0"
      ]
     },
     "execution_count": 78,
     "metadata": {},
     "output_type": "execute_result"
    }
   ],
   "source": [
    "import os\n",
    "os.system('jupyter nbconvert --to html Levenshtein_distance_filtering.ipynb')"
   ]
  },
  {
   "cell_type": "code",
   "execution_count": null,
   "metadata": {},
   "outputs": [],
   "source": []
  }
 ],
 "metadata": {
  "kernelspec": {
   "display_name": "Python 3",
   "language": "python",
   "name": "python3"
  },
  "language_info": {
   "codemirror_mode": {
    "name": "ipython",
    "version": 3
   },
   "file_extension": ".py",
   "mimetype": "text/x-python",
   "name": "python",
   "nbconvert_exporter": "python",
   "pygments_lexer": "ipython3",
   "version": "3.8.3"
  }
 },
 "nbformat": 4,
 "nbformat_minor": 4
}
